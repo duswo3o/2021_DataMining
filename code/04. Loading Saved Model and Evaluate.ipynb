{
 "cells": [
  {
   "cell_type": "code",
   "execution_count": 1,
   "metadata": {},
   "outputs": [],
   "source": [
    "# 라이브러리 불러오기\n",
    "\n",
    "from keras.models import load_model\n",
    "import tensorflow as tf\n",
    "\n",
    "import matplotlib.pyplot as plt\n",
    "import os\n",
    "import shutil\n",
    "import glob\n",
    "import cv2\n",
    "\n",
    "import numpy as np\n",
    "import pandas as pd\n",
    "\n",
    "from tensorflow.keras.preprocessing.image import ImageDataGenerator, load_img\n",
    "from tensorflow.keras.utils import to_categorical\n",
    "import random\n",
    "\n",
    "import time"
   ]
  },
  {
   "cell_type": "code",
   "execution_count": 2,
   "metadata": {},
   "outputs": [],
   "source": [
    "# 저장한 학습시킨 모델 불러오기\n",
    "\n",
    "model = load_model('./학습함수/CNN_epoch_100_batch_32.h5')"
   ]
  },
  {
   "cell_type": "code",
   "execution_count": 50,
   "metadata": {},
   "outputs": [
    {
     "name": "stdout",
     "output_type": "stream",
     "text": [
      "the number of test set : 1000\n"
     ]
    }
   ],
   "source": [
    "# 경로 지정하기\n",
    "\n",
    "# 파일이 있는 경로\n",
    "train_dir = '../dogs-vs-cats/train/train'\n",
    "\n",
    "# test용 폴더 경로\n",
    "test_set_dir = os.path.join(train_dir, 'test_set')\n",
    "test_dog_dir = os.path.join(test_set_dir, 'dog')\n",
    "test_cat_dir = os.path.join(test_set_dir, 'cat')\n",
    "\n",
    "# test set 1000장(cat:500/dog:500)\n",
    "print(f'the number of test set : {len(os.listdir(test_dog_dir)) + len(os.listdir(test_cat_dir))}')"
   ]
  },
  {
   "cell_type": "markdown",
   "metadata": {},
   "source": [
    "### 강아지 데이터"
   ]
  },
  {
   "cell_type": "code",
   "execution_count": 13,
   "metadata": {},
   "outputs": [],
   "source": [
    "dog_test = os.listdir(test_dog_dir)\n",
    "dog_test_df = pd.DataFrame({\n",
    "    'f_name':dog_test\n",
    "})\n",
    "dog_samples = dog_test_df.shape[0]"
   ]
  },
  {
   "cell_type": "code",
   "execution_count": 18,
   "metadata": {},
   "outputs": [
    {
     "name": "stdout",
     "output_type": "stream",
     "text": [
      "Found 500 validated image filenames.\n"
     ]
    }
   ],
   "source": [
    "dog_test_gen = ImageDataGenerator(rescale=1./255)\n",
    "dog_test_generator = dog_test_gen.flow_from_dataframe(dog_test_df,\n",
    "                                             test_dog_dir,\n",
    "                                             x_col = 'f_name',\n",
    "                                             y_col=None,\n",
    "                                             target_size=(150,150),\n",
    "                                             batch_size=32,\n",
    "                                             shuffle=False,\n",
    "                                             class_mode=None)"
   ]
  },
  {
   "cell_type": "code",
   "execution_count": 42,
   "metadata": {},
   "outputs": [
    {
     "name": "stderr",
     "output_type": "stream",
     "text": [
      "C:\\Users\\Public\\anaconda3\\lib\\site-packages\\keras\\engine\\training.py:1976: UserWarning: `Model.predict_generator` is deprecated and will be removed in a future version. Please use `Model.predict`, which supports generators.\n",
      "  warnings.warn('`Model.predict_generator` is deprecated and '\n"
     ]
    }
   ],
   "source": [
    "predict_dog = model.predict_generator(dog_test_generator, steps=np.ceil(dog_samples/32))"
   ]
  },
  {
   "cell_type": "code",
   "execution_count": 46,
   "metadata": {},
   "outputs": [
    {
     "data": {
      "text/html": [
       "<div>\n",
       "<style scoped>\n",
       "    .dataframe tbody tr th:only-of-type {\n",
       "        vertical-align: middle;\n",
       "    }\n",
       "\n",
       "    .dataframe tbody tr th {\n",
       "        vertical-align: top;\n",
       "    }\n",
       "\n",
       "    .dataframe thead th {\n",
       "        text-align: right;\n",
       "    }\n",
       "</style>\n",
       "<table border=\"1\" class=\"dataframe\">\n",
       "  <thead>\n",
       "    <tr style=\"text-align: right;\">\n",
       "      <th></th>\n",
       "      <th>0</th>\n",
       "    </tr>\n",
       "  </thead>\n",
       "  <tbody>\n",
       "    <tr>\n",
       "      <th>0</th>\n",
       "      <td>0.996181</td>\n",
       "    </tr>\n",
       "    <tr>\n",
       "      <th>1</th>\n",
       "      <td>0.996321</td>\n",
       "    </tr>\n",
       "    <tr>\n",
       "      <th>2</th>\n",
       "      <td>1.000000</td>\n",
       "    </tr>\n",
       "    <tr>\n",
       "      <th>3</th>\n",
       "      <td>0.999702</td>\n",
       "    </tr>\n",
       "    <tr>\n",
       "      <th>4</th>\n",
       "      <td>0.992599</td>\n",
       "    </tr>\n",
       "    <tr>\n",
       "      <th>...</th>\n",
       "      <td>...</td>\n",
       "    </tr>\n",
       "    <tr>\n",
       "      <th>495</th>\n",
       "      <td>0.979219</td>\n",
       "    </tr>\n",
       "    <tr>\n",
       "      <th>496</th>\n",
       "      <td>0.727973</td>\n",
       "    </tr>\n",
       "    <tr>\n",
       "      <th>497</th>\n",
       "      <td>1.000000</td>\n",
       "    </tr>\n",
       "    <tr>\n",
       "      <th>498</th>\n",
       "      <td>1.000000</td>\n",
       "    </tr>\n",
       "    <tr>\n",
       "      <th>499</th>\n",
       "      <td>1.000000</td>\n",
       "    </tr>\n",
       "  </tbody>\n",
       "</table>\n",
       "<p>479 rows × 1 columns</p>\n",
       "</div>"
      ],
      "text/plain": [
       "            0\n",
       "0    0.996181\n",
       "1    0.996321\n",
       "2    1.000000\n",
       "3    0.999702\n",
       "4    0.992599\n",
       "..        ...\n",
       "495  0.979219\n",
       "496  0.727973\n",
       "497  1.000000\n",
       "498  1.000000\n",
       "499  1.000000\n",
       "\n",
       "[479 rows x 1 columns]"
      ]
     },
     "execution_count": 46,
     "metadata": {},
     "output_type": "execute_result"
    }
   ],
   "source": [
    "predict_dog = pd.DataFrame(predict_dog)\n",
    "predict_dog.loc[predict_dog[0]>=0.5]"
   ]
  },
  {
   "cell_type": "code",
   "execution_count": 52,
   "metadata": {},
   "outputs": [
    {
     "data": {
      "text/html": [
       "<div>\n",
       "<style scoped>\n",
       "    .dataframe tbody tr th:only-of-type {\n",
       "        vertical-align: middle;\n",
       "    }\n",
       "\n",
       "    .dataframe tbody tr th {\n",
       "        vertical-align: top;\n",
       "    }\n",
       "\n",
       "    .dataframe thead th {\n",
       "        text-align: right;\n",
       "    }\n",
       "</style>\n",
       "<table border=\"1\" class=\"dataframe\">\n",
       "  <thead>\n",
       "    <tr style=\"text-align: right;\">\n",
       "      <th></th>\n",
       "      <th>f_name</th>\n",
       "      <th>predicted</th>\n",
       "      <th>category</th>\n",
       "    </tr>\n",
       "  </thead>\n",
       "  <tbody>\n",
       "    <tr>\n",
       "      <th>0</th>\n",
       "      <td>dog.12000.jpg</td>\n",
       "      <td>0.996181</td>\n",
       "      <td>dog</td>\n",
       "    </tr>\n",
       "    <tr>\n",
       "      <th>1</th>\n",
       "      <td>dog.12001.jpg</td>\n",
       "      <td>0.996321</td>\n",
       "      <td>dog</td>\n",
       "    </tr>\n",
       "    <tr>\n",
       "      <th>2</th>\n",
       "      <td>dog.12002.jpg</td>\n",
       "      <td>1.000000</td>\n",
       "      <td>dog</td>\n",
       "    </tr>\n",
       "    <tr>\n",
       "      <th>3</th>\n",
       "      <td>dog.12003.jpg</td>\n",
       "      <td>0.999702</td>\n",
       "      <td>dog</td>\n",
       "    </tr>\n",
       "    <tr>\n",
       "      <th>4</th>\n",
       "      <td>dog.12004.jpg</td>\n",
       "      <td>0.992599</td>\n",
       "      <td>dog</td>\n",
       "    </tr>\n",
       "    <tr>\n",
       "      <th>...</th>\n",
       "      <td>...</td>\n",
       "      <td>...</td>\n",
       "      <td>...</td>\n",
       "    </tr>\n",
       "    <tr>\n",
       "      <th>495</th>\n",
       "      <td>dog.12495.jpg</td>\n",
       "      <td>0.979219</td>\n",
       "      <td>dog</td>\n",
       "    </tr>\n",
       "    <tr>\n",
       "      <th>496</th>\n",
       "      <td>dog.12496.jpg</td>\n",
       "      <td>0.727973</td>\n",
       "      <td>dog</td>\n",
       "    </tr>\n",
       "    <tr>\n",
       "      <th>497</th>\n",
       "      <td>dog.12497.jpg</td>\n",
       "      <td>1.000000</td>\n",
       "      <td>dog</td>\n",
       "    </tr>\n",
       "    <tr>\n",
       "      <th>498</th>\n",
       "      <td>dog.12498.jpg</td>\n",
       "      <td>1.000000</td>\n",
       "      <td>dog</td>\n",
       "    </tr>\n",
       "    <tr>\n",
       "      <th>499</th>\n",
       "      <td>dog.12499.jpg</td>\n",
       "      <td>1.000000</td>\n",
       "      <td>dog</td>\n",
       "    </tr>\n",
       "  </tbody>\n",
       "</table>\n",
       "<p>500 rows × 3 columns</p>\n",
       "</div>"
      ],
      "text/plain": [
       "            f_name  predicted category\n",
       "0    dog.12000.jpg   0.996181      dog\n",
       "1    dog.12001.jpg   0.996321      dog\n",
       "2    dog.12002.jpg   1.000000      dog\n",
       "3    dog.12003.jpg   0.999702      dog\n",
       "4    dog.12004.jpg   0.992599      dog\n",
       "..             ...        ...      ...\n",
       "495  dog.12495.jpg   0.979219      dog\n",
       "496  dog.12496.jpg   0.727973      dog\n",
       "497  dog.12497.jpg   1.000000      dog\n",
       "498  dog.12498.jpg   1.000000      dog\n",
       "499  dog.12499.jpg   1.000000      dog\n",
       "\n",
       "[500 rows x 3 columns]"
      ]
     },
     "execution_count": 52,
     "metadata": {},
     "output_type": "execute_result"
    }
   ],
   "source": [
    "dog_test_df['predicted'] = predict_dog\n",
    "\n",
    "categoris = []\n",
    "j=0\n",
    "for i in dog_test_df['predicted']:\n",
    "    if dog_test_df['predicted'][j] < 0.5:\n",
    "        categoris.append('cat')\n",
    "        j+=1\n",
    "    else:\n",
    "        categoris.append('dog')\n",
    "        j+=1\n",
    "        \n",
    "dog_test_df['category'] = categoris\n",
    "dog_test_df"
   ]
  },
  {
   "cell_type": "markdown",
   "metadata": {},
   "source": [
    "### 고양이 데이터"
   ]
  },
  {
   "cell_type": "code",
   "execution_count": 32,
   "metadata": {},
   "outputs": [],
   "source": [
    "cat_test = os.listdir(test_cat_dir)\n",
    "cat_test_df = pd.DataFrame({\n",
    "    'f_name':cat_test\n",
    "})\n",
    "cat_samples = cat_test_df.shape[0]"
   ]
  },
  {
   "cell_type": "code",
   "execution_count": 34,
   "metadata": {},
   "outputs": [
    {
     "name": "stdout",
     "output_type": "stream",
     "text": [
      "Found 500 validated image filenames.\n"
     ]
    }
   ],
   "source": [
    "cat_test_gen = ImageDataGenerator(rescale=1./255)\n",
    "cat_test_generator = cat_test_gen.flow_from_dataframe(cat_test_df,\n",
    "                                             test_cat_dir,\n",
    "                                             x_col = 'f_name',\n",
    "                                             y_col=None,\n",
    "                                             target_size=(150,150),\n",
    "                                             batch_size=32,\n",
    "                                             shuffle=False,\n",
    "                                             class_mode=None)"
   ]
  },
  {
   "cell_type": "code",
   "execution_count": 47,
   "metadata": {},
   "outputs": [
    {
     "name": "stderr",
     "output_type": "stream",
     "text": [
      "C:\\Users\\Public\\anaconda3\\lib\\site-packages\\keras\\engine\\training.py:1976: UserWarning: `Model.predict_generator` is deprecated and will be removed in a future version. Please use `Model.predict`, which supports generators.\n",
      "  warnings.warn('`Model.predict_generator` is deprecated and '\n"
     ]
    }
   ],
   "source": [
    "predict_cat = model.predict_generator(cat_test_generator, steps=np.ceil(cat_samples/32))"
   ]
  },
  {
   "cell_type": "code",
   "execution_count": 48,
   "metadata": {},
   "outputs": [
    {
     "data": {
      "text/html": [
       "<div>\n",
       "<style scoped>\n",
       "    .dataframe tbody tr th:only-of-type {\n",
       "        vertical-align: middle;\n",
       "    }\n",
       "\n",
       "    .dataframe tbody tr th {\n",
       "        vertical-align: top;\n",
       "    }\n",
       "\n",
       "    .dataframe thead th {\n",
       "        text-align: right;\n",
       "    }\n",
       "</style>\n",
       "<table border=\"1\" class=\"dataframe\">\n",
       "  <thead>\n",
       "    <tr style=\"text-align: right;\">\n",
       "      <th></th>\n",
       "      <th>0</th>\n",
       "    </tr>\n",
       "  </thead>\n",
       "  <tbody>\n",
       "    <tr>\n",
       "      <th>0</th>\n",
       "      <td>8.548200e-04</td>\n",
       "    </tr>\n",
       "    <tr>\n",
       "      <th>1</th>\n",
       "      <td>7.151365e-04</td>\n",
       "    </tr>\n",
       "    <tr>\n",
       "      <th>2</th>\n",
       "      <td>1.813504e-02</td>\n",
       "    </tr>\n",
       "    <tr>\n",
       "      <th>4</th>\n",
       "      <td>5.789891e-02</td>\n",
       "    </tr>\n",
       "    <tr>\n",
       "      <th>5</th>\n",
       "      <td>9.683960e-20</td>\n",
       "    </tr>\n",
       "    <tr>\n",
       "      <th>...</th>\n",
       "      <td>...</td>\n",
       "    </tr>\n",
       "    <tr>\n",
       "      <th>493</th>\n",
       "      <td>5.775988e-04</td>\n",
       "    </tr>\n",
       "    <tr>\n",
       "      <th>494</th>\n",
       "      <td>7.712114e-13</td>\n",
       "    </tr>\n",
       "    <tr>\n",
       "      <th>495</th>\n",
       "      <td>2.342796e-01</td>\n",
       "    </tr>\n",
       "    <tr>\n",
       "      <th>497</th>\n",
       "      <td>7.883283e-12</td>\n",
       "    </tr>\n",
       "    <tr>\n",
       "      <th>499</th>\n",
       "      <td>3.586793e-01</td>\n",
       "    </tr>\n",
       "  </tbody>\n",
       "</table>\n",
       "<p>458 rows × 1 columns</p>\n",
       "</div>"
      ],
      "text/plain": [
       "                0\n",
       "0    8.548200e-04\n",
       "1    7.151365e-04\n",
       "2    1.813504e-02\n",
       "4    5.789891e-02\n",
       "5    9.683960e-20\n",
       "..            ...\n",
       "493  5.775988e-04\n",
       "494  7.712114e-13\n",
       "495  2.342796e-01\n",
       "497  7.883283e-12\n",
       "499  3.586793e-01\n",
       "\n",
       "[458 rows x 1 columns]"
      ]
     },
     "execution_count": 48,
     "metadata": {},
     "output_type": "execute_result"
    }
   ],
   "source": [
    "predict_cat = pd.DataFrame(predict_cat)\n",
    "predict_cat.loc[predict_cat[0]<0.5]"
   ]
  },
  {
   "cell_type": "code",
   "execution_count": 53,
   "metadata": {},
   "outputs": [
    {
     "data": {
      "text/html": [
       "<div>\n",
       "<style scoped>\n",
       "    .dataframe tbody tr th:only-of-type {\n",
       "        vertical-align: middle;\n",
       "    }\n",
       "\n",
       "    .dataframe tbody tr th {\n",
       "        vertical-align: top;\n",
       "    }\n",
       "\n",
       "    .dataframe thead th {\n",
       "        text-align: right;\n",
       "    }\n",
       "</style>\n",
       "<table border=\"1\" class=\"dataframe\">\n",
       "  <thead>\n",
       "    <tr style=\"text-align: right;\">\n",
       "      <th></th>\n",
       "      <th>f_name</th>\n",
       "      <th>predicted</th>\n",
       "      <th>category</th>\n",
       "    </tr>\n",
       "  </thead>\n",
       "  <tbody>\n",
       "    <tr>\n",
       "      <th>0</th>\n",
       "      <td>cat.12000.jpg</td>\n",
       "      <td>8.548200e-04</td>\n",
       "      <td>cat</td>\n",
       "    </tr>\n",
       "    <tr>\n",
       "      <th>1</th>\n",
       "      <td>cat.12001.jpg</td>\n",
       "      <td>7.151365e-04</td>\n",
       "      <td>cat</td>\n",
       "    </tr>\n",
       "    <tr>\n",
       "      <th>2</th>\n",
       "      <td>cat.12002.jpg</td>\n",
       "      <td>1.813504e-02</td>\n",
       "      <td>cat</td>\n",
       "    </tr>\n",
       "    <tr>\n",
       "      <th>3</th>\n",
       "      <td>cat.12003.jpg</td>\n",
       "      <td>7.338394e-01</td>\n",
       "      <td>dog</td>\n",
       "    </tr>\n",
       "    <tr>\n",
       "      <th>4</th>\n",
       "      <td>cat.12004.jpg</td>\n",
       "      <td>5.789891e-02</td>\n",
       "      <td>cat</td>\n",
       "    </tr>\n",
       "    <tr>\n",
       "      <th>...</th>\n",
       "      <td>...</td>\n",
       "      <td>...</td>\n",
       "      <td>...</td>\n",
       "    </tr>\n",
       "    <tr>\n",
       "      <th>495</th>\n",
       "      <td>cat.12495.jpg</td>\n",
       "      <td>2.342796e-01</td>\n",
       "      <td>cat</td>\n",
       "    </tr>\n",
       "    <tr>\n",
       "      <th>496</th>\n",
       "      <td>cat.12496.jpg</td>\n",
       "      <td>9.266406e-01</td>\n",
       "      <td>dog</td>\n",
       "    </tr>\n",
       "    <tr>\n",
       "      <th>497</th>\n",
       "      <td>cat.12497.jpg</td>\n",
       "      <td>7.883283e-12</td>\n",
       "      <td>cat</td>\n",
       "    </tr>\n",
       "    <tr>\n",
       "      <th>498</th>\n",
       "      <td>cat.12498.jpg</td>\n",
       "      <td>8.366362e-01</td>\n",
       "      <td>dog</td>\n",
       "    </tr>\n",
       "    <tr>\n",
       "      <th>499</th>\n",
       "      <td>cat.12499.jpg</td>\n",
       "      <td>3.586793e-01</td>\n",
       "      <td>cat</td>\n",
       "    </tr>\n",
       "  </tbody>\n",
       "</table>\n",
       "<p>500 rows × 3 columns</p>\n",
       "</div>"
      ],
      "text/plain": [
       "            f_name     predicted category\n",
       "0    cat.12000.jpg  8.548200e-04      cat\n",
       "1    cat.12001.jpg  7.151365e-04      cat\n",
       "2    cat.12002.jpg  1.813504e-02      cat\n",
       "3    cat.12003.jpg  7.338394e-01      dog\n",
       "4    cat.12004.jpg  5.789891e-02      cat\n",
       "..             ...           ...      ...\n",
       "495  cat.12495.jpg  2.342796e-01      cat\n",
       "496  cat.12496.jpg  9.266406e-01      dog\n",
       "497  cat.12497.jpg  7.883283e-12      cat\n",
       "498  cat.12498.jpg  8.366362e-01      dog\n",
       "499  cat.12499.jpg  3.586793e-01      cat\n",
       "\n",
       "[500 rows x 3 columns]"
      ]
     },
     "execution_count": 53,
     "metadata": {},
     "output_type": "execute_result"
    }
   ],
   "source": [
    "cat_test_df['predicted'] = predict_cat\n",
    "\n",
    "categoris = []\n",
    "j=0\n",
    "for i in cat_test_df['predicted']:\n",
    "    if cat_test_df['predicted'][j] < 0.5:\n",
    "        categoris.append('cat')\n",
    "        j+=1\n",
    "    else:\n",
    "        categoris.append('dog')\n",
    "        j+=1\n",
    "        \n",
    "cat_test_df['category'] = categoris\n",
    "cat_test_df"
   ]
  },
  {
   "cell_type": "code",
   "execution_count": 64,
   "metadata": {},
   "outputs": [
    {
     "name": "stdout",
     "output_type": "stream",
     "text": [
      "dogs_error :  21\n",
      "cats_error :  42\n",
      "======================================\n",
      "dogs_error_percent : 4.20\n",
      "cats_error_percent :  8.40\n",
      "all_error_percent :  6.30\n"
     ]
    }
   ],
   "source": [
    "dogs_error = dog_test_df['category'].loc[dog_test_df['category'] == 'cat'].count()\n",
    "cats_error = cat_test_df['category'].loc[cat_test_df['category'] == 'dog'].count()\n",
    "\n",
    "print('dogs_error : ', dogs_error)\n",
    "print('cats_error : ', cats_error)\n",
    "print('======================================')\n",
    "print(f'dogs_error_percent :{dogs_error/500*100: .2f}')\n",
    "print(f'cats_error_percent : {cats_error/500*100: .2f}')\n",
    "print(f'all_error_percent : {(dogs_error+cats_error)/1000*100: .2f}')"
   ]
  },
  {
   "cell_type": "code",
   "execution_count": null,
   "metadata": {},
   "outputs": [],
   "source": []
  }
 ],
 "metadata": {
  "kernelspec": {
   "display_name": "Python 3",
   "language": "python",
   "name": "python3"
  },
  "language_info": {
   "codemirror_mode": {
    "name": "ipython",
    "version": 3
   },
   "file_extension": ".py",
   "mimetype": "text/x-python",
   "name": "python",
   "nbconvert_exporter": "python",
   "pygments_lexer": "ipython3",
   "version": "3.8.5"
  }
 },
 "nbformat": 4,
 "nbformat_minor": 4
}
