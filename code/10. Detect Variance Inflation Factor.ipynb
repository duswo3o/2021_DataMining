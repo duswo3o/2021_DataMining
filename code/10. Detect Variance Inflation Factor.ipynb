{
 "cells": [
  {
   "cell_type": "code",
   "execution_count": 2,
   "metadata": {},
   "outputs": [
    {
     "data": {
      "text/html": [
       "<table>\n",
       "<thead><tr><th scope=col>Id</th><th scope=col>Subject.Focus</th><th scope=col>Eyes</th><th scope=col>Face</th><th scope=col>Near</th><th scope=col>Action</th><th scope=col>Accessory</th><th scope=col>Group</th><th scope=col>Collage</th><th scope=col>Human</th><th scope=col>Occlusion</th><th scope=col>Info</th><th scope=col>Blur</th><th scope=col>Pawpularity</th></tr></thead>\n",
       "<tbody>\n",
       "\t<tr><td>0007de18844b0dbbb5e1f607da0606e0</td><td>0                               </td><td>1                               </td><td>1                               </td><td>1                               </td><td>0                               </td><td>0                               </td><td>1                               </td><td>0                               </td><td>0                               </td><td>0                               </td><td>0                               </td><td>0                               </td><td>63                              </td></tr>\n",
       "\t<tr><td>0009c66b9439883ba2750fb825e1d7db</td><td>0                               </td><td>1                               </td><td>1                               </td><td>0                               </td><td>0                               </td><td>0                               </td><td>0                               </td><td>0                               </td><td>0                               </td><td>0                               </td><td>0                               </td><td>0                               </td><td>42                              </td></tr>\n",
       "\t<tr><td>0013fd999caf9a3efe1352ca1b0d937e</td><td>0                               </td><td>1                               </td><td>1                               </td><td>1                               </td><td>0                               </td><td>0                               </td><td>0                               </td><td>0                               </td><td>1                               </td><td>1                               </td><td>0                               </td><td>0                               </td><td>28                              </td></tr>\n",
       "\t<tr><td>0018df346ac9c1d8413cfcc888ca8246</td><td>0                               </td><td>1                               </td><td>1                               </td><td>1                               </td><td>0                               </td><td>0                               </td><td>0                               </td><td>0                               </td><td>0                               </td><td>0                               </td><td>0                               </td><td>0                               </td><td>15                              </td></tr>\n",
       "\t<tr><td>001dc955e10590d3ca4673f034feeef2</td><td>0                               </td><td>0                               </td><td>0                               </td><td>1                               </td><td>0                               </td><td>0                               </td><td>1                               </td><td>0                               </td><td>0                               </td><td>0                               </td><td>0                               </td><td>0                               </td><td>72                              </td></tr>\n",
       "\t<tr><td>001dd4f6fafb890610b1635f967ea081</td><td>0                               </td><td>0                               </td><td>1                               </td><td>0                               </td><td>0                               </td><td>0                               </td><td>0                               </td><td>0                               </td><td>0                               </td><td>0                               </td><td>0                               </td><td>1                               </td><td>74                              </td></tr>\n",
       "</tbody>\n",
       "</table>\n"
      ],
      "text/latex": [
       "\\begin{tabular}{r|llllllllllllll}\n",
       " Id & Subject.Focus & Eyes & Face & Near & Action & Accessory & Group & Collage & Human & Occlusion & Info & Blur & Pawpularity\\\\\n",
       "\\hline\n",
       "\t 0007de18844b0dbbb5e1f607da0606e0 & 0                                & 1                                & 1                                & 1                                & 0                                & 0                                & 1                                & 0                                & 0                                & 0                                & 0                                & 0                                & 63                              \\\\\n",
       "\t 0009c66b9439883ba2750fb825e1d7db & 0                                & 1                                & 1                                & 0                                & 0                                & 0                                & 0                                & 0                                & 0                                & 0                                & 0                                & 0                                & 42                              \\\\\n",
       "\t 0013fd999caf9a3efe1352ca1b0d937e & 0                                & 1                                & 1                                & 1                                & 0                                & 0                                & 0                                & 0                                & 1                                & 1                                & 0                                & 0                                & 28                              \\\\\n",
       "\t 0018df346ac9c1d8413cfcc888ca8246 & 0                                & 1                                & 1                                & 1                                & 0                                & 0                                & 0                                & 0                                & 0                                & 0                                & 0                                & 0                                & 15                              \\\\\n",
       "\t 001dc955e10590d3ca4673f034feeef2 & 0                                & 0                                & 0                                & 1                                & 0                                & 0                                & 1                                & 0                                & 0                                & 0                                & 0                                & 0                                & 72                              \\\\\n",
       "\t 001dd4f6fafb890610b1635f967ea081 & 0                                & 0                                & 1                                & 0                                & 0                                & 0                                & 0                                & 0                                & 0                                & 0                                & 0                                & 1                                & 74                              \\\\\n",
       "\\end{tabular}\n"
      ],
      "text/markdown": [
       "\n",
       "| Id | Subject.Focus | Eyes | Face | Near | Action | Accessory | Group | Collage | Human | Occlusion | Info | Blur | Pawpularity |\n",
       "|---|---|---|---|---|---|---|---|---|---|---|---|---|---|\n",
       "| 0007de18844b0dbbb5e1f607da0606e0 | 0                                | 1                                | 1                                | 1                                | 0                                | 0                                | 1                                | 0                                | 0                                | 0                                | 0                                | 0                                | 63                               |\n",
       "| 0009c66b9439883ba2750fb825e1d7db | 0                                | 1                                | 1                                | 0                                | 0                                | 0                                | 0                                | 0                                | 0                                | 0                                | 0                                | 0                                | 42                               |\n",
       "| 0013fd999caf9a3efe1352ca1b0d937e | 0                                | 1                                | 1                                | 1                                | 0                                | 0                                | 0                                | 0                                | 1                                | 1                                | 0                                | 0                                | 28                               |\n",
       "| 0018df346ac9c1d8413cfcc888ca8246 | 0                                | 1                                | 1                                | 1                                | 0                                | 0                                | 0                                | 0                                | 0                                | 0                                | 0                                | 0                                | 15                               |\n",
       "| 001dc955e10590d3ca4673f034feeef2 | 0                                | 0                                | 0                                | 1                                | 0                                | 0                                | 1                                | 0                                | 0                                | 0                                | 0                                | 0                                | 72                               |\n",
       "| 001dd4f6fafb890610b1635f967ea081 | 0                                | 0                                | 1                                | 0                                | 0                                | 0                                | 0                                | 0                                | 0                                | 0                                | 0                                | 1                                | 74                               |\n",
       "\n"
      ],
      "text/plain": [
       "  Id                               Subject.Focus Eyes Face Near Action\n",
       "1 0007de18844b0dbbb5e1f607da0606e0 0             1    1    1    0     \n",
       "2 0009c66b9439883ba2750fb825e1d7db 0             1    1    0    0     \n",
       "3 0013fd999caf9a3efe1352ca1b0d937e 0             1    1    1    0     \n",
       "4 0018df346ac9c1d8413cfcc888ca8246 0             1    1    1    0     \n",
       "5 001dc955e10590d3ca4673f034feeef2 0             0    0    1    0     \n",
       "6 001dd4f6fafb890610b1635f967ea081 0             0    1    0    0     \n",
       "  Accessory Group Collage Human Occlusion Info Blur Pawpularity\n",
       "1 0         1     0       0     0         0    0    63         \n",
       "2 0         0     0       0     0         0    0    42         \n",
       "3 0         0     0       1     1         0    0    28         \n",
       "4 0         0     0       0     0         0    0    15         \n",
       "5 0         1     0       0     0         0    0    72         \n",
       "6 0         0     0       0     0         0    1    74         "
      ]
     },
     "metadata": {},
     "output_type": "display_data"
    }
   ],
   "source": [
    "# 데이터 불러오기\n",
    "df = read.csv('../data/petfinder-pawpularity-score/train.csv')\n",
    "head(df)"
   ]
  },
  {
   "cell_type": "code",
   "execution_count": 4,
   "metadata": {
    "scrolled": true
   },
   "outputs": [
    {
     "data": {
      "text/plain": [
       "\n",
       "Call:\n",
       "lm(formula = Pawpularity ~ Subject.Focus + Eyes + Face + Near + \n",
       "    Action + Accessory + Group + Collage + Human + Occlusion + \n",
       "    Info + Blur, data = df)\n",
       "\n",
       "Residuals:\n",
       "    Min      1Q  Median      3Q     Max \n",
       "-39.509 -12.839  -4.809   8.191  66.630 \n",
       "\n",
       "Coefficients:\n",
       "              Estimate Std. Error t value Pr(>|t|)    \n",
       "(Intercept)   37.37044    0.87220  42.846  < 2e-16 ***\n",
       "Subject.Focus -1.12585    1.27301  -0.884 0.376503    \n",
       "Eyes          -2.48010    0.74920  -3.310 0.000935 ***\n",
       "Face           2.45014    0.91795   2.669 0.007617 ** \n",
       "Near           0.46845    0.65948   0.710 0.477519    \n",
       "Action        -0.30890    2.08153  -0.148 0.882030    \n",
       "Accessory      1.21101    0.82972   1.460 0.144448    \n",
       "Group          1.22000    0.65853   1.853 0.063968 .  \n",
       "Collage        0.39700    1.12308   0.353 0.723724    \n",
       "Human          0.36363    0.72889   0.499 0.617879    \n",
       "Occlusion     -0.06627    0.71858  -0.092 0.926519    \n",
       "Info          -0.71554    0.99384  -0.720 0.471562    \n",
       "Blur          -3.75365    0.99287  -3.781 0.000157 ***\n",
       "---\n",
       "Signif. codes:  0 '***' 0.001 '**' 0.01 '*' 0.05 '.' 0.1 ' ' 1\n",
       "\n",
       "Residual standard error: 20.58 on 9899 degrees of freedom\n",
       "Multiple R-squared:  0.002409,\tAdjusted R-squared:  0.0012 \n",
       "F-statistic: 1.992 on 12 and 9899 DF,  p-value: 0.02105\n"
      ]
     },
     "metadata": {},
     "output_type": "display_data"
    }
   ],
   "source": [
    "# 회귀분석\n",
    "model <- lm(Pawpularity~ Subject.Focus+Eyes+Face+Near+Action+Accessory+Group+Collage+Human+Occlusion+Info+Blur,data = df) # ~. 는 나머지 모든 변수에 대해 회귀분석 실시\n",
    "summary(model)"
   ]
  },
  {
   "cell_type": "markdown",
   "metadata": {},
   "source": [
    "- Pr(>|t|)열은 t 분포를 사용하여 각 변수가 얼마나 유의한지를 판단할 수 있는 p-value를 알려줌\n",
    "- Pr(>|t|) 값이 0.05보다 큰 값은 회귀분석모형에서 빠지는게 유력한 변수"
   ]
  },
  {
   "cell_type": "code",
   "execution_count": 5,
   "metadata": {
    "scrolled": true
   },
   "outputs": [
    {
     "name": "stdout",
     "output_type": "stream",
     "text": [
      "Start:  AIC=59966.75\n",
      "Pawpularity ~ Subject.Focus + Eyes + Face + Near + Action + Accessory + \n",
      "    Group + Collage + Human + Occlusion + Info + Blur\n",
      "\n",
      "                Df Sum of Sq     RSS   AIC\n",
      "- Occlusion      1       3.6 4192441 59965\n",
      "- Action         1       9.3 4192446 59965\n",
      "- Collage        1      52.9 4192490 59965\n",
      "- Human          1     105.4 4192542 59965\n",
      "- Near           1     213.7 4192651 59965\n",
      "- Info           1     219.5 4192656 59965\n",
      "- Subject.Focus  1     331.3 4192768 59966\n",
      "<none>                       4192437 59967\n",
      "- Accessory      1     902.2 4193339 59967\n",
      "- Group          1    1453.6 4193891 59968\n",
      "- Face           1    3017.3 4195454 59972\n",
      "- Eyes           1    4641.1 4197078 59976\n",
      "- Blur           1    6053.4 4198490 59979\n",
      "\n",
      "Step:  AIC=59964.76\n",
      "Pawpularity ~ Subject.Focus + Eyes + Face + Near + Action + Accessory + \n",
      "    Group + Collage + Human + Info + Blur\n",
      "\n",
      "                Df Sum of Sq     RSS   AIC\n",
      "- Action         1       9.3 4192450 59963\n",
      "- Collage        1      53.5 4192494 59963\n",
      "- Human          1     138.1 4192579 59963\n",
      "- Near           1     215.2 4192656 59963\n",
      "- Info           1     230.0 4192671 59963\n",
      "- Subject.Focus  1     329.6 4192770 59964\n",
      "<none>                       4192441 59965\n",
      "- Accessory      1     904.8 4193345 59965\n",
      "- Group          1    1450.7 4193891 59966\n",
      "+ Occlusion      1       3.6 4192437 59967\n",
      "- Face           1    3017.0 4195458 59970\n",
      "- Eyes           1    4643.6 4197084 59974\n",
      "- Blur           1    6056.6 4198497 59977\n",
      "\n",
      "Step:  AIC=59962.78\n",
      "Pawpularity ~ Subject.Focus + Eyes + Face + Near + Accessory + \n",
      "    Group + Collage + Human + Info + Blur\n",
      "\n",
      "                Df Sum of Sq     RSS   AIC\n",
      "- Collage        1      53.6 4192503 59961\n",
      "- Human          1     138.4 4192588 59961\n",
      "- Near           1     218.2 4192668 59961\n",
      "- Info           1     228.4 4192678 59961\n",
      "- Subject.Focus  1     331.3 4192781 59962\n",
      "<none>                       4192450 59963\n",
      "- Accessory      1     900.4 4193350 59963\n",
      "- Group          1    1453.2 4193903 59964\n",
      "+ Action         1       9.3 4192441 59965\n",
      "+ Occlusion      1       3.6 4192446 59965\n",
      "- Face           1    3016.8 4195467 59968\n",
      "- Eyes           1    4639.5 4197089 59972\n",
      "- Blur           1    6058.2 4198508 59975\n",
      "\n",
      "Step:  AIC=59960.91\n",
      "Pawpularity ~ Subject.Focus + Eyes + Face + Near + Accessory + \n",
      "    Group + Human + Info + Blur\n",
      "\n",
      "                Df Sum of Sq     RSS   AIC\n",
      "- Human          1     142.5 4192646 59959\n",
      "- Info           1     175.0 4192678 59959\n",
      "- Near           1     183.1 4192687 59959\n",
      "- Subject.Focus  1     334.9 4192838 59960\n",
      "<none>                       4192503 59961\n",
      "- Accessory      1     922.2 4193426 59961\n",
      "- Group          1    1492.2 4193996 59962\n",
      "+ Collage        1      53.6 4192450 59963\n",
      "+ Action         1       9.3 4192494 59963\n",
      "+ Occlusion      1       4.2 4192499 59963\n",
      "- Face           1    3043.7 4195547 59966\n",
      "- Eyes           1    4600.0 4197103 59970\n",
      "- Blur           1    6041.0 4198544 59973\n",
      "\n",
      "Step:  AIC=59959.25\n",
      "Pawpularity ~ Subject.Focus + Eyes + Face + Near + Accessory + \n",
      "    Group + Info + Blur\n",
      "\n",
      "                Df Sum of Sq     RSS   AIC\n",
      "- Info           1     165.9 4192812 59958\n",
      "- Near           1     196.2 4192842 59958\n",
      "- Subject.Focus  1     374.8 4193021 59958\n",
      "<none>                       4192646 59959\n",
      "- Accessory      1     888.0 4193534 59959\n",
      "- Group          1    1419.7 4194066 59961\n",
      "+ Human          1     142.5 4192503 59961\n",
      "+ Collage        1      57.6 4192588 59961\n",
      "+ Occlusion      1      36.4 4192609 59961\n",
      "+ Action         1       9.7 4192636 59961\n",
      "- Face           1    3036.4 4195682 59964\n",
      "- Eyes           1    4566.9 4197213 59968\n",
      "- Blur           1    6046.1 4198692 59972\n",
      "\n",
      "Step:  AIC=59957.64\n",
      "Pawpularity ~ Subject.Focus + Eyes + Face + Near + Accessory + \n",
      "    Group + Blur\n",
      "\n",
      "                Df Sum of Sq     RSS   AIC\n",
      "- Near           1     254.6 4193066 59956\n",
      "- Subject.Focus  1     357.1 4193169 59956\n",
      "- Accessory      1     833.3 4193645 59958\n",
      "<none>                       4192812 59958\n",
      "- Group          1    1397.4 4194209 59959\n",
      "+ Info           1     165.9 4192646 59959\n",
      "+ Human          1     133.4 4192678 59959\n",
      "+ Occlusion      1      20.0 4192792 59960\n",
      "+ Action         1       8.0 4192804 59960\n",
      "+ Collage        1       0.7 4192811 59960\n",
      "- Face           1    3017.1 4195829 59963\n",
      "- Eyes           1    4629.1 4197441 59967\n",
      "- Blur           1    6048.9 4198861 59970\n",
      "\n",
      "Step:  AIC=59956.24\n",
      "Pawpularity ~ Subject.Focus + Eyes + Face + Accessory + Group + \n",
      "    Blur\n",
      "\n",
      "                Df Sum of Sq     RSS   AIC\n",
      "- Subject.Focus  1     335.4 4193402 59955\n",
      "- Accessory      1     839.9 4193906 59956\n",
      "<none>                       4193066 59956\n",
      "- Group          1    1165.5 4194232 59957\n",
      "+ Near           1     254.6 4192812 59958\n",
      "+ Info           1     224.4 4192842 59958\n",
      "+ Human          1     146.5 4192920 59958\n",
      "+ Occlusion      1      18.9 4193048 59958\n",
      "+ Action         1      10.8 4193056 59958\n",
      "+ Collage        1       9.9 4193057 59958\n",
      "- Face           1    3100.0 4196166 59962\n",
      "- Eyes           1    4509.1 4197576 59965\n",
      "- Blur           1    5976.0 4199043 59968\n",
      "\n",
      "Step:  AIC=59955.03\n",
      "Pawpularity ~ Eyes + Face + Accessory + Group + Blur\n",
      "\n",
      "                Df Sum of Sq     RSS   AIC\n",
      "- Accessory      1     825.1 4194227 59955\n",
      "<none>                       4193402 59955\n",
      "- Group          1    1226.3 4194628 59956\n",
      "+ Subject.Focus  1     335.4 4193066 59956\n",
      "+ Near           1     232.9 4193169 59956\n",
      "+ Info           1     201.7 4193200 59957\n",
      "+ Human          1     184.4 4193217 59957\n",
      "+ Occlusion      1      33.2 4193369 59957\n",
      "+ Action         1      12.7 4193389 59957\n",
      "+ Collage        1       5.9 4193396 59957\n",
      "- Face           1    3117.9 4196520 59960\n",
      "- Eyes           1    4642.6 4198044 59964\n",
      "- Blur           1    5956.5 4199358 59967\n",
      "\n",
      "Step:  AIC=59954.98\n",
      "Pawpularity ~ Eyes + Face + Group + Blur\n",
      "\n",
      "                Df Sum of Sq     RSS   AIC\n",
      "<none>                       4194227 59955\n",
      "+ Accessory      1     825.1 4193402 59955\n",
      "- Group          1    1124.9 4195352 59956\n",
      "+ Subject.Focus  1     320.5 4193906 59956\n",
      "+ Near           1     239.6 4193987 59956\n",
      "+ Human          1     147.5 4194079 59957\n",
      "+ Info           1     142.8 4194084 59957\n",
      "+ Occlusion      1      21.3 4194206 59957\n",
      "+ Action         1       7.9 4194219 59957\n",
      "+ Collage        1       0.2 4194227 59957\n",
      "- Face           1    3135.4 4197362 59960\n",
      "- Eyes           1    4552.9 4198780 59964\n",
      "- Blur           1    6015.6 4200243 59967\n"
     ]
    }
   ],
   "source": [
    "# stepwise 방법으로 변수 선택하기\n",
    "model2 <- step(model, direction = \"both\") # 단계별 선택법"
   ]
  },
  {
   "cell_type": "markdown",
   "metadata": {},
   "source": [
    "- Eyes , Face , Group , Blur를 독립변수로 선정?"
   ]
  },
  {
   "cell_type": "code",
   "execution_count": 6,
   "metadata": {},
   "outputs": [
    {
     "data": {
      "text/html": [
       "<table>\n",
       "<thead><tr><th scope=col>Res.Df</th><th scope=col>RSS</th><th scope=col>Df</th><th scope=col>Sum of Sq</th><th scope=col>F</th><th scope=col>Pr(&gt;F)</th></tr></thead>\n",
       "<tbody>\n",
       "\t<tr><td>9899     </td><td>4192437  </td><td>NA       </td><td>       NA</td><td>       NA</td><td>       NA</td></tr>\n",
       "\t<tr><td>9907     </td><td>4194227  </td><td>-8       </td><td>-1790.027</td><td>0.5283167</td><td>0.8360922</td></tr>\n",
       "</tbody>\n",
       "</table>\n"
      ],
      "text/latex": [
       "\\begin{tabular}{r|llllll}\n",
       " Res.Df & RSS & Df & Sum of Sq & F & Pr(>F)\\\\\n",
       "\\hline\n",
       "\t 9899      & 4192437   & NA        &        NA &        NA &        NA\\\\\n",
       "\t 9907      & 4194227   & -8        & -1790.027 & 0.5283167 & 0.8360922\\\\\n",
       "\\end{tabular}\n"
      ],
      "text/markdown": [
       "\n",
       "| Res.Df | RSS | Df | Sum of Sq | F | Pr(>F) |\n",
       "|---|---|---|---|---|---|\n",
       "| 9899      | 4192437   | NA        |        NA |        NA |        NA |\n",
       "| 9907      | 4194227   | -8        | -1790.027 | 0.5283167 | 0.8360922 |\n",
       "\n"
      ],
      "text/plain": [
       "  Res.Df RSS     Df Sum of Sq F         Pr(>F)   \n",
       "1 9899   4192437 NA        NA        NA        NA\n",
       "2 9907   4194227 -8 -1790.027 0.5283167 0.8360922"
      ]
     },
     "metadata": {},
     "output_type": "display_data"
    }
   ],
   "source": [
    "# 회귀모델 비교 및 평가\n",
    "anova(model, model2)"
   ]
  },
  {
   "cell_type": "code",
   "execution_count": 7,
   "metadata": {},
   "outputs": [
    {
     "data": {
      "text/plain": [
       "\n",
       "Call:\n",
       "lm(formula = Pawpularity ~ Eyes + Face + Group + Blur, data = df)\n",
       "\n",
       "Residuals:\n",
       "    Min      1Q  Median      3Q     Max \n",
       "-39.308 -12.856  -4.856   8.144  65.935 \n",
       "\n",
       "Coefficients:\n",
       "            Estimate Std. Error t value Pr(>|t|)    \n",
       "(Intercept)  37.8043     0.6967  54.264  < 2e-16 ***\n",
       "Eyes         -2.4421     0.7447  -3.279 0.001044 ** \n",
       "Face          2.4937     0.9163   2.721 0.006512 ** \n",
       "Group         1.0104     0.6198   1.630 0.103114    \n",
       "Blur         -3.7389     0.9919  -3.769 0.000165 ***\n",
       "---\n",
       "Signif. codes:  0 '***' 0.001 '**' 0.01 '*' 0.05 '.' 0.1 ' ' 1\n",
       "\n",
       "Residual standard error: 20.58 on 9907 degrees of freedom\n",
       "Multiple R-squared:  0.001983,\tAdjusted R-squared:  0.00158 \n",
       "F-statistic: 4.922 on 4 and 9907 DF,  p-value: 0.0005801\n"
      ]
     },
     "metadata": {},
     "output_type": "display_data"
    }
   ],
   "source": [
    "summary(model2)"
   ]
  },
  {
   "cell_type": "code",
   "execution_count": 12,
   "metadata": {},
   "outputs": [
    {
     "name": "stderr",
     "output_type": "stream",
     "text": [
      "also installing the dependency 'lme4'\n",
      "\n"
     ]
    },
    {
     "name": "stdout",
     "output_type": "stream",
     "text": [
      "\n",
      "  There are binary versions available but the source versions are later:\n",
      "     binary   source needs_compilation\n",
      "lme4 1.1-26 1.1-27.1              TRUE\n",
      "car  3.0-10   3.0-12             FALSE\n",
      "\n",
      "  Binaries will be installed\n",
      "package 'lme4' successfully unpacked and MD5 sums checked\n",
      "\n",
      "The downloaded binary packages are in\n",
      "\tC:\\tmp\\Rtmpsv98Vh\\downloaded_packages\n"
     ]
    },
    {
     "name": "stderr",
     "output_type": "stream",
     "text": [
      "installing the source package 'car'\n",
      "\n"
     ]
    }
   ],
   "source": [
    "# 다중공선성 확인\n",
    "\n",
    "# 다중공선성은 분산팽창지수(Variation Inflation Factor;VIF)라는 통계량을 사용하여 계산 가능\n",
    "# 한 예측변수에 대해 VIF의 제곱근은 다중공선선의 정도를 나타냄\n",
    "# VIF가 10을 넘으면(=GVIF^(1/(2*Df)) 값이 2를 넘으면), 다중공선성 문제를 보임\n",
    "\n",
    "# VIF 값은 car 패키지의 vif() 함수로 계산\n",
    "install.packages(\"car\")\n",
    "library(car)\n",
    "# vif(model)"
   ]
  },
  {
   "cell_type": "code",
   "execution_count": 13,
   "metadata": {
    "scrolled": true
   },
   "outputs": [
    {
     "data": {
      "text/html": [
       "<dl class=dl-horizontal>\n",
       "\t<dt>Subject.Focus</dt>\n",
       "\t\t<dd>1.01944596319946</dd>\n",
       "\t<dt>Eyes</dt>\n",
       "\t\t<dd>2.30795606171827</dd>\n",
       "\t<dt>Face</dt>\n",
       "\t\t<dd>1.71216127895386</dd>\n",
       "\t<dt>Near</dt>\n",
       "\t\t<dd>1.21388585006348</dd>\n",
       "\t<dt>Action</dt>\n",
       "\t\t<dd>1.00268992318151</dd>\n",
       "\t<dt>Accessory</dt>\n",
       "\t\t<dd>1.01828192898973</dd>\n",
       "\t<dt>Group</dt>\n",
       "\t\t<dd>1.14290813474116</dd>\n",
       "\t<dt>Collage</dt>\n",
       "\t\t<dd>1.3925123456004</dd>\n",
       "\t<dt>Human</dt>\n",
       "\t\t<dd>1.72361462699165</dd>\n",
       "\t<dt>Occlusion</dt>\n",
       "\t\t<dd>1.72118563711453</dd>\n",
       "\t<dt>Info</dt>\n",
       "\t\t<dd>1.32893499382756</dd>\n",
       "\t<dt>Blur</dt>\n",
       "\t\t<dd>1.51024885811783</dd>\n",
       "</dl>\n"
      ],
      "text/latex": [
       "\\begin{description*}\n",
       "\\item[Subject.Focus] 1.01944596319946\n",
       "\\item[Eyes] 2.30795606171827\n",
       "\\item[Face] 1.71216127895386\n",
       "\\item[Near] 1.21388585006348\n",
       "\\item[Action] 1.00268992318151\n",
       "\\item[Accessory] 1.01828192898973\n",
       "\\item[Group] 1.14290813474116\n",
       "\\item[Collage] 1.3925123456004\n",
       "\\item[Human] 1.72361462699165\n",
       "\\item[Occlusion] 1.72118563711453\n",
       "\\item[Info] 1.32893499382756\n",
       "\\item[Blur] 1.51024885811783\n",
       "\\end{description*}\n"
      ],
      "text/markdown": [
       "Subject.Focus\n",
       ":   1.01944596319946Eyes\n",
       ":   2.30795606171827Face\n",
       ":   1.71216127895386Near\n",
       ":   1.21388585006348Action\n",
       ":   1.00268992318151Accessory\n",
       ":   1.01828192898973Group\n",
       ":   1.14290813474116Collage\n",
       ":   1.3925123456004Human\n",
       ":   1.72361462699165Occlusion\n",
       ":   1.72118563711453Info\n",
       ":   1.32893499382756Blur\n",
       ":   1.51024885811783\n",
       "\n"
      ],
      "text/plain": [
       "Subject.Focus          Eyes          Face          Near        Action \n",
       "     1.019446      2.307956      1.712161      1.213886      1.002690 \n",
       "    Accessory         Group       Collage         Human     Occlusion \n",
       "     1.018282      1.142908      1.392512      1.723615      1.721186 \n",
       "         Info          Blur \n",
       "     1.328935      1.510249 "
      ]
     },
     "metadata": {},
     "output_type": "display_data"
    }
   ],
   "source": [
    "# 팽창계수 확인\n",
    "vif(model)"
   ]
  },
  {
   "cell_type": "code",
   "execution_count": 14,
   "metadata": {},
   "outputs": [
    {
     "data": {
      "text/html": [
       "<dl class=dl-horizontal>\n",
       "\t<dt>Eyes</dt>\n",
       "\t\t<dd>2.28120276712727</dd>\n",
       "\t<dt>Face</dt>\n",
       "\t\t<dd>1.70677619882262</dd>\n",
       "\t<dt>Group</dt>\n",
       "\t\t<dd>1.0128952433139</dd>\n",
       "\t<dt>Blur</dt>\n",
       "\t\t<dd>1.50780801014651</dd>\n",
       "</dl>\n"
      ],
      "text/latex": [
       "\\begin{description*}\n",
       "\\item[Eyes] 2.28120276712727\n",
       "\\item[Face] 1.70677619882262\n",
       "\\item[Group] 1.0128952433139\n",
       "\\item[Blur] 1.50780801014651\n",
       "\\end{description*}\n"
      ],
      "text/markdown": [
       "Eyes\n",
       ":   2.28120276712727Face\n",
       ":   1.70677619882262Group\n",
       ":   1.0128952433139Blur\n",
       ":   1.50780801014651\n",
       "\n"
      ],
      "text/plain": [
       "    Eyes     Face    Group     Blur \n",
       "2.281203 1.706776 1.012895 1.507808 "
      ]
     },
     "metadata": {},
     "output_type": "display_data"
    }
   ],
   "source": [
    "vif(model2)"
   ]
  },
  {
   "cell_type": "code",
   "execution_count": 15,
   "metadata": {},
   "outputs": [
    {
     "data": {
      "text/plain": [
       "\n",
       "Call:\n",
       "lm(formula = Pawpularity ~ Subject.Focus + Face + Near + Action + \n",
       "    Accessory + Group + Collage + Human + Occlusion + Info + \n",
       "    Blur, data = df)\n",
       "\n",
       "Residuals:\n",
       "    Min      1Q  Median      3Q     Max \n",
       "-37.547 -13.057  -5.057   8.338  65.075 \n",
       "\n",
       "Coefficients:\n",
       "              Estimate Std. Error t value Pr(>|t|)    \n",
       "(Intercept)   37.21061    0.87130  42.707   <2e-16 ***\n",
       "Subject.Focus -1.33904    1.27202  -1.053   0.2925    \n",
       "Face           0.54534    0.71557   0.762   0.4460    \n",
       "Near           0.30118    0.65787   0.458   0.6471    \n",
       "Action        -0.23190    2.08245  -0.111   0.9113    \n",
       "Accessory      1.15911    0.82999   1.397   0.1626    \n",
       "Group          1.24299    0.65882   1.887   0.0592 .  \n",
       "Collage        0.20131    1.12208   0.179   0.8576    \n",
       "Human          0.33834    0.72922   0.464   0.6427    \n",
       "Occlusion     -0.08618    0.71892  -0.120   0.9046    \n",
       "Info          -0.72622    0.99434  -0.730   0.4652    \n",
       "Blur          -1.86008    0.81194  -2.291   0.0220 *  \n",
       "---\n",
       "Signif. codes:  0 '***' 0.001 '**' 0.01 '*' 0.05 '.' 0.1 ' ' 1\n",
       "\n",
       "Residual standard error: 20.59 on 9900 degrees of freedom\n",
       "Multiple R-squared:  0.001305,\tAdjusted R-squared:  0.0001952 \n",
       "F-statistic: 1.176 on 11 and 9900 DF,  p-value: 0.2977\n"
      ]
     },
     "metadata": {},
     "output_type": "display_data"
    }
   ],
   "source": [
    "model3 <- lm(Pawpularity~ Subject.Focus+Face+Near+Action+Accessory+Group+Collage+Human+Occlusion+Info+Blur,data = df) # ~. 는 나머지 모든 변수에 대해 회귀분석 실시\n",
    "summary(model3)"
   ]
  },
  {
   "cell_type": "markdown",
   "metadata": {},
   "source": [
    "Multiple R-squared 값이 너무 낮아서 설명력이 매우 부족함"
   ]
  },
  {
   "cell_type": "code",
   "execution_count": null,
   "metadata": {},
   "outputs": [],
   "source": []
  }
 ],
 "metadata": {
  "kernelspec": {
   "display_name": "R",
   "language": "R",
   "name": "ir"
  },
  "language_info": {
   "codemirror_mode": "r",
   "file_extension": ".r",
   "mimetype": "text/x-r-source",
   "name": "R",
   "pygments_lexer": "r",
   "version": "3.6.1"
  }
 },
 "nbformat": 4,
 "nbformat_minor": 4
}
